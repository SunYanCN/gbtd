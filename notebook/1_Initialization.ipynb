{
 "cells": [
  {
   "cell_type": "markdown",
   "metadata": {},
   "source": [
    "# Initialization"
   ]
  },
  {
   "cell_type": "markdown",
   "metadata": {},
   "source": [
    "This notebook includes code blocks to load and preprocess data before it will be used at further steps."
   ]
  },
  {
   "cell_type": "markdown",
   "metadata": {},
   "source": [
    "## Contents\n",
    "\n"
   ]
  },
  {
   "cell_type": "markdown",
   "metadata": {},
   "source": [
    "### Imports"
   ]
  },
  {
   "cell_type": "code",
   "execution_count": 1,
   "metadata": {},
   "outputs": [],
   "source": [
    "import sys\n",
    "sys.path.append('../src/')\n",
    "import os\n",
    "import copy\n",
    "\n",
    "import numpy as np\n",
    "\n",
    "from computational_utilities import reshape\n",
    "from loaders import load_eth80"
   ]
  },
  {
   "cell_type": "markdown",
   "metadata": {},
   "source": [
    "### Load ETH-80 data\n",
    "\n",
    "Homepage: https://www.mpi-inf.mpg.de/departments/computer-vision-and-multimodal-computing/research/object-recognition-and-scene-understanding/analyzing-appearance-and-contour-based-methods-for-object-categorization/\n",
    "\n",
    "[Return to contents]()"
   ]
  },
  {
   "cell_type": "code",
   "execution_count": null,
   "metadata": {},
   "outputs": [],
   "source": [
    "imSizes = [128]\n",
    "\n",
    "data_dirname = '../data/'\n",
    "data_filename = 'eth80-cropped-close128.tgz'\n",
    "save_data_filename = 'eth80'\n",
    "\n",
    "load_eth80.downloadETH80(data_dirname)\n",
    "\n",
    "for k in xrange(len(imSizes)):\n",
    "    resizeValue = imSizes[k]\n",
    "    data, classes = load_eth80.buildNpzETH80(data_filename, data_dirname, resizeValue)\n",
    "    np.savez_compressed(\n",
    "        data_dirname+save_data_filename+'_'+str(resizeValue), data=data,\n",
    "        resizeValue=resizeValue, classes=classes)"
   ]
  },
  {
   "cell_type": "code",
   "execution_count": null,
   "metadata": {},
   "outputs": [],
   "source": []
  }
 ],
 "metadata": {
  "kernelspec": {
   "display_name": "Python 2",
   "language": "python",
   "name": "python2"
  },
  "language_info": {
   "codemirror_mode": {
    "name": "ipython",
    "version": 2
   },
   "file_extension": ".py",
   "mimetype": "text/x-python",
   "name": "python",
   "nbconvert_exporter": "python",
   "pygments_lexer": "ipython2",
   "version": "2.7.14"
  }
 },
 "nbformat": 4,
 "nbformat_minor": 2
}
